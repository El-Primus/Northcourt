{
 "cells": [
  {
   "cell_type": "code",
   "execution_count": 1,
   "metadata": {},
   "outputs": [],
   "source": [
    "import requests\n",
    "import pandas as pd\n",
    "from bs4 import BeautifulSoup as bs\n",
    "import re"
   ]
  },
  {
   "cell_type": "code",
   "execution_count": 2,
   "metadata": {},
   "outputs": [
    {
     "name": "stdout",
     "output_type": "stream",
     "text": [
      "Data has been saved\n"
     ]
    }
   ],
   "source": [
    "# URL pattern of the website to be scraped\n",
    "url_pattern = 'https://nigeriapropertycentre.com/for-rent/flats-apartments/lagos/surulere/showtype?bedrooms=3&page={}'\n",
    "\n",
    "# Creating an empty list to store the property listings\n",
    "properties = []\n",
    "\n",
    "# Looping through all the pages of the website to extract the address, price, and description for each listing\n",
    "for page in range(1, 6):\n",
    "    url = url_pattern.format(page)\n",
    "    response = requests.get(url)\n",
    "    soup = bs(response.content, 'html.parser')\n",
    "    listings = soup.find_all('div', itemprop = \"itemListElement\")\n",
    "    for listing in listings:\n",
    "        address = listing.find('address', class_ = 'voffset-bottom-10').text.strip()\n",
    "        price = listing.find('span', class_= 'pull-sm-left').text.strip()\n",
    "        description = listing.find('h3').text\n",
    "        properties.append({'Address': address, 'Description': description, 'Rent': price})\n",
    "\n",
    "# Load the data into a Pandas DataFrame\n",
    "df = pd.DataFrame(properties)\n",
    "\n",
    "# Save the DataFrame to an Excel file\n",
    "df.to_excel('3-bedrooms_in_Surulere.xlsx', index=False)\n",
    "df.to_csv('3-bedrooms_in_Surulere.csv')\n",
    "# Display a message to indicate that the file has been saved\n",
    "print('Data has been saved')\n"
   ]
  },
  {
   "cell_type": "code",
   "execution_count": 7,
   "metadata": {},
   "outputs": [
    {
     "data": {
      "text/html": [
       "<div>\n",
       "<style scoped>\n",
       "    .dataframe tbody tr th:only-of-type {\n",
       "        vertical-align: middle;\n",
       "    }\n",
       "\n",
       "    .dataframe tbody tr th {\n",
       "        vertical-align: top;\n",
       "    }\n",
       "\n",
       "    .dataframe thead th {\n",
       "        text-align: right;\n",
       "    }\n",
       "</style>\n",
       "<table border=\"1\" class=\"dataframe\">\n",
       "  <thead>\n",
       "    <tr style=\"text-align: right;\">\n",
       "      <th></th>\n",
       "      <th>Address</th>\n",
       "      <th>Description</th>\n",
       "      <th>Rent</th>\n",
       "    </tr>\n",
       "  </thead>\n",
       "  <tbody>\n",
       "    <tr>\n",
       "      <td>0</td>\n",
       "      <td>Bode Thomas, Surulere, Lagos</td>\n",
       "      <td>A Massive And Spacious 3 Bedroom Flat</td>\n",
       "      <td>₦5,500,000 per annum</td>\n",
       "    </tr>\n",
       "    <tr>\n",
       "      <td>1</td>\n",
       "      <td>Stadium Hotel, Surulere, Lagos</td>\n",
       "      <td>Decent 3 Bedroom First Floor Flat With 2 Baths...</td>\n",
       "      <td>₦2,500,000 per annum</td>\n",
       "    </tr>\n",
       "    <tr>\n",
       "      <td>2</td>\n",
       "      <td>Off Adetola, Aguda, Surulere, Lagos</td>\n",
       "      <td>Decent And Newly Renovated 3 Bedroom Flat</td>\n",
       "      <td>₦1,500,000 per annum</td>\n",
       "    </tr>\n",
       "    <tr>\n",
       "      <td>3</td>\n",
       "      <td>Kilo, Surulere, Lagos</td>\n",
       "      <td>Renovated 4 Units Of 3 Bedroom Flat Upstairs A...</td>\n",
       "      <td>₦2,000,000 per annum</td>\n",
       "    </tr>\n",
       "    <tr>\n",
       "      <td>4</td>\n",
       "      <td>Kilo, Surulere, Lagos</td>\n",
       "      <td>A Renovated 3 Bedroom Apartment With Wardrobe,...</td>\n",
       "      <td>₦2,000,000 per annum</td>\n",
       "    </tr>\n",
       "  </tbody>\n",
       "</table>\n",
       "</div>"
      ],
      "text/plain": [
       "                               Address  \\\n",
       "0         Bode Thomas, Surulere, Lagos   \n",
       "1       Stadium Hotel, Surulere, Lagos   \n",
       "2  Off Adetola, Aguda, Surulere, Lagos   \n",
       "3                Kilo, Surulere, Lagos   \n",
       "4                Kilo, Surulere, Lagos   \n",
       "\n",
       "                                         Description                  Rent  \n",
       "0              A Massive And Spacious 3 Bedroom Flat  ₦5,500,000 per annum  \n",
       "1  Decent 3 Bedroom First Floor Flat With 2 Baths...  ₦2,500,000 per annum  \n",
       "2          Decent And Newly Renovated 3 Bedroom Flat  ₦1,500,000 per annum  \n",
       "3  Renovated 4 Units Of 3 Bedroom Flat Upstairs A...  ₦2,000,000 per annum  \n",
       "4  A Renovated 3 Bedroom Apartment With Wardrobe,...  ₦2,000,000 per annum  "
      ]
     },
     "execution_count": 7,
     "metadata": {},
     "output_type": "execute_result"
    }
   ],
   "source": [
    "df.head()"
   ]
  },
  {
   "cell_type": "code",
   "execution_count": 8,
   "metadata": {},
   "outputs": [
    {
     "data": {
      "text/plain": [
       "(74, 3)"
      ]
     },
     "execution_count": 8,
     "metadata": {},
     "output_type": "execute_result"
    }
   ],
   "source": [
    "df.shape"
   ]
  }
 ],
 "metadata": {
  "kernelspec": {
   "display_name": "Python 3",
   "language": "python",
   "name": "python3"
  },
  "language_info": {
   "codemirror_mode": {
    "name": "ipython",
    "version": 3
   },
   "file_extension": ".py",
   "mimetype": "text/x-python",
   "name": "python",
   "nbconvert_exporter": "python",
   "pygments_lexer": "ipython3",
   "version": "3.7.4"
  }
 },
 "nbformat": 4,
 "nbformat_minor": 5
}
